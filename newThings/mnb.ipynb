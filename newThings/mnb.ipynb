{
 "cells": [
  {
   "cell_type": "markdown",
   "id": "b9c7c9b1",
   "metadata": {},
   "source": [
    "# Yoruba Language Identifier"
   ]
  },
  {
   "cell_type": "markdown",
   "id": "b6708505",
   "metadata": {},
   "source": [
    "### Importing the pandas library"
   ]
  },
  {
   "cell_type": "code",
   "execution_count": 1,
   "id": "5534cd28",
   "metadata": {},
   "outputs": [],
   "source": [
    "import pandas as pd"
   ]
  },
  {
   "cell_type": "markdown",
   "id": "ae4a0228",
   "metadata": {},
   "source": [
    "### Loading the dataset"
   ]
  },
  {
   "cell_type": "code",
   "execution_count": 2,
   "id": "996b8945",
   "metadata": {},
   "outputs": [
    {
     "data": {
      "text/html": [
       "<div>\n",
       "<style scoped>\n",
       "    .dataframe tbody tr th:only-of-type {\n",
       "        vertical-align: middle;\n",
       "    }\n",
       "\n",
       "    .dataframe tbody tr th {\n",
       "        vertical-align: top;\n",
       "    }\n",
       "\n",
       "    .dataframe thead th {\n",
       "        text-align: right;\n",
       "    }\n",
       "</style>\n",
       "<table border=\"1\" class=\"dataframe\">\n",
       "  <thead>\n",
       "    <tr style=\"text-align: right;\">\n",
       "      <th></th>\n",
       "      <th>Text</th>\n",
       "      <th>Language</th>\n",
       "    </tr>\n",
       "  </thead>\n",
       "  <tbody>\n",
       "    <tr>\n",
       "      <th>0</th>\n",
       "      <td>Nature er et britisk multidisciplinært vidensk...</td>\n",
       "      <td>Danish</td>\n",
       "    </tr>\n",
       "    <tr>\n",
       "      <th>1</th>\n",
       "      <td>[1] Det er rangeret som verdens mest citerede ...</td>\n",
       "      <td>Danish</td>\n",
       "    </tr>\n",
       "    <tr>\n",
       "      <th>2</th>\n",
       "      <td>[2][3] Det er et af de få tilbageværende akade...</td>\n",
       "      <td>Danish</td>\n",
       "    </tr>\n",
       "    <tr>\n",
       "      <th>3</th>\n",
       "      <td>[3][4] Tidsskriftets primære målgruppe er fors...</td>\n",
       "      <td>Danish</td>\n",
       "    </tr>\n",
       "    <tr>\n",
       "      <th>4</th>\n",
       "      <td>I starten af hvert tidsskrift er ledere, nyhed...</td>\n",
       "      <td>Danish</td>\n",
       "    </tr>\n",
       "    <tr>\n",
       "      <th>...</th>\n",
       "      <td>...</td>\n",
       "      <td>...</td>\n",
       "    </tr>\n",
       "    <tr>\n",
       "      <th>33814</th>\n",
       "      <td>Ọgbọ́n tí ahún gbọ́n, ẹ̀yìn ni yó máa tọ ti ìg...</td>\n",
       "      <td>Yoruba</td>\n",
       "    </tr>\n",
       "    <tr>\n",
       "      <th>33815</th>\n",
       "      <td>Ọjọ́ pẹ́ táwọn Ẹlẹ́rìí Jèhófà ti ń sọ Ọ̀rọ̀ Ọl...</td>\n",
       "      <td>Yoruba</td>\n",
       "    </tr>\n",
       "    <tr>\n",
       "      <th>33816</th>\n",
       "      <td>Ọ̀pá gbóńgbó ní n ṣíwájú agbọ́ọni.</td>\n",
       "      <td>Yoruba</td>\n",
       "    </tr>\n",
       "    <tr>\n",
       "      <th>33817</th>\n",
       "      <td>Ọ̀rọ̀ apinlẹ̀kọ yìí wá láti ẹnu àgbà olóṣèlú O...</td>\n",
       "      <td>Yoruba</td>\n",
       "    </tr>\n",
       "    <tr>\n",
       "      <th>33818</th>\n",
       "      <td>ṣe àfihàn ohun táwa Ẹlẹ́rìí Jèhófà gbé ṣe àtoh...</td>\n",
       "      <td>Yoruba</td>\n",
       "    </tr>\n",
       "  </tbody>\n",
       "</table>\n",
       "<p>33819 rows × 2 columns</p>\n",
       "</div>"
      ],
      "text/plain": [
       "                                                    Text Language\n",
       "0      Nature er et britisk multidisciplinært vidensk...   Danish\n",
       "1      [1] Det er rangeret som verdens mest citerede ...   Danish\n",
       "2      [2][3] Det er et af de få tilbageværende akade...   Danish\n",
       "3      [3][4] Tidsskriftets primære målgruppe er fors...   Danish\n",
       "4      I starten af hvert tidsskrift er ledere, nyhed...   Danish\n",
       "...                                                  ...      ...\n",
       "33814  Ọgbọ́n tí ahún gbọ́n, ẹ̀yìn ni yó máa tọ ti ìg...   Yoruba\n",
       "33815  Ọjọ́ pẹ́ táwọn Ẹlẹ́rìí Jèhófà ti ń sọ Ọ̀rọ̀ Ọl...   Yoruba\n",
       "33816                 Ọ̀pá gbóńgbó ní n ṣíwájú agbọ́ọni.   Yoruba\n",
       "33817  Ọ̀rọ̀ apinlẹ̀kọ yìí wá láti ẹnu àgbà olóṣèlú O...   Yoruba\n",
       "33818  ṣe àfihàn ohun táwa Ẹlẹ́rìí Jèhófà gbé ṣe àtoh...   Yoruba\n",
       "\n",
       "[33819 rows x 2 columns]"
      ]
     },
     "execution_count": 2,
     "metadata": {},
     "output_type": "execute_result"
    },
    {
     "data": {
      "text/html": [
       "<div>\n",
       "<style scoped>\n",
       "    .dataframe tbody tr th:only-of-type {\n",
       "        vertical-align: middle;\n",
       "    }\n",
       "\n",
       "    .dataframe tbody tr th {\n",
       "        vertical-align: top;\n",
       "    }\n",
       "\n",
       "    .dataframe thead th {\n",
       "        text-align: right;\n",
       "    }\n",
       "</style>\n",
       "<table border=\"1\" class=\"dataframe\">\n",
       "  <thead>\n",
       "    <tr style=\"text-align: right;\">\n",
       "      <th></th>\n",
       "      <th>Text</th>\n",
       "      <th>Language</th>\n",
       "    </tr>\n",
       "  </thead>\n",
       "  <tbody>\n",
       "    <tr>\n",
       "      <th>0</th>\n",
       "      <td>Nature er et britisk multidisciplinært vidensk...</td>\n",
       "      <td>Danish</td>\n",
       "    </tr>\n",
       "    <tr>\n",
       "      <th>1</th>\n",
       "      <td>[1] Det er rangeret som verdens mest citerede ...</td>\n",
       "      <td>Danish</td>\n",
       "    </tr>\n",
       "    <tr>\n",
       "      <th>2</th>\n",
       "      <td>[2][3] Det er et af de få tilbageværende akade...</td>\n",
       "      <td>Danish</td>\n",
       "    </tr>\n",
       "    <tr>\n",
       "      <th>3</th>\n",
       "      <td>[3][4] Tidsskriftets primære målgruppe er fors...</td>\n",
       "      <td>Danish</td>\n",
       "    </tr>\n",
       "    <tr>\n",
       "      <th>4</th>\n",
       "      <td>I starten af hvert tidsskrift er ledere, nyhed...</td>\n",
       "      <td>Danish</td>\n",
       "    </tr>\n",
       "    <tr>\n",
       "      <th>...</th>\n",
       "      <td>...</td>\n",
       "      <td>...</td>\n",
       "    </tr>\n",
       "    <tr>\n",
       "      <th>33814</th>\n",
       "      <td>Ọgbọ́n tí ahún gbọ́n, ẹ̀yìn ni yó máa tọ ti ìg...</td>\n",
       "      <td>Yoruba</td>\n",
       "    </tr>\n",
       "    <tr>\n",
       "      <th>33815</th>\n",
       "      <td>Ọjọ́ pẹ́ táwọn Ẹlẹ́rìí Jèhófà ti ń sọ Ọ̀rọ̀ Ọl...</td>\n",
       "      <td>Yoruba</td>\n",
       "    </tr>\n",
       "    <tr>\n",
       "      <th>33816</th>\n",
       "      <td>Ọ̀pá gbóńgbó ní n ṣíwájú agbọ́ọni.</td>\n",
       "      <td>Yoruba</td>\n",
       "    </tr>\n",
       "    <tr>\n",
       "      <th>33817</th>\n",
       "      <td>Ọ̀rọ̀ apinlẹ̀kọ yìí wá láti ẹnu àgbà olóṣèlú O...</td>\n",
       "      <td>Yoruba</td>\n",
       "    </tr>\n",
       "    <tr>\n",
       "      <th>33818</th>\n",
       "      <td>ṣe àfihàn ohun táwa Ẹlẹ́rìí Jèhófà gbé ṣe àtoh...</td>\n",
       "      <td>Yoruba</td>\n",
       "    </tr>\n",
       "  </tbody>\n",
       "</table>\n",
       "<p>33819 rows × 2 columns</p>\n",
       "</div>"
      ],
      "text/plain": [
       "                                                    Text Language\n",
       "0      Nature er et britisk multidisciplinært vidensk...   Danish\n",
       "1      [1] Det er rangeret som verdens mest citerede ...   Danish\n",
       "2      [2][3] Det er et af de få tilbageværende akade...   Danish\n",
       "3      [3][4] Tidsskriftets primære målgruppe er fors...   Danish\n",
       "4      I starten af hvert tidsskrift er ledere, nyhed...   Danish\n",
       "...                                                  ...      ...\n",
       "33814  Ọgbọ́n tí ahún gbọ́n, ẹ̀yìn ni yó máa tọ ti ìg...   Yoruba\n",
       "33815  Ọjọ́ pẹ́ táwọn Ẹlẹ́rìí Jèhófà ti ń sọ Ọ̀rọ̀ Ọl...   Yoruba\n",
       "33816                 Ọ̀pá gbóńgbó ní n ṣíwájú agbọ́ọni.   Yoruba\n",
       "33817  Ọ̀rọ̀ apinlẹ̀kọ yìí wá láti ẹnu àgbà olóṣèlú O...   Yoruba\n",
       "33818  ṣe àfihàn ohun táwa Ẹlẹ́rìí Jèhófà gbé ṣe àtoh...   Yoruba\n",
       "\n",
       "[33819 rows x 2 columns]"
      ]
     },
     "execution_count": 2,
     "metadata": {},
     "output_type": "execute_result"
    }
   ],
   "source": [
    "sets = pd.read_csv('./newDataset.csv')\n",
    "sets"
   ]
  },
  {
   "cell_type": "markdown",
   "id": "4539439b",
   "metadata": {},
   "source": [
    "### Checking data for NAN values"
   ]
  },
  {
   "cell_type": "code",
   "execution_count": 3,
   "id": "834328a4",
   "metadata": {},
   "outputs": [],
   "source": [
    "# print(sets.isnull().sum())"
   ]
  },
  {
   "cell_type": "markdown",
   "id": "82252f37",
   "metadata": {},
   "source": [
    "### Replacing NaN values with default values"
   ]
  },
  {
   "cell_type": "code",
   "execution_count": 4,
   "id": "eb0dbb92",
   "metadata": {},
   "outputs": [],
   "source": [
    "# sets.fillna(sets.mean(), inplace=True)"
   ]
  },
  {
   "cell_type": "markdown",
   "id": "f60f2855",
   "metadata": {},
   "source": [
    "### Remove rows and columns that contain Nan values"
   ]
  },
  {
   "cell_type": "code",
   "execution_count": 5,
   "id": "5d79c7b4",
   "metadata": {},
   "outputs": [],
   "source": [
    "# sets.dropna(inplace=True)"
   ]
  },
  {
   "cell_type": "markdown",
   "id": "8cb3296c",
   "metadata": {},
   "source": [
    "### Displaying the dataset"
   ]
  },
  {
   "cell_type": "code",
   "execution_count": 6,
   "id": "77e24efa",
   "metadata": {},
   "outputs": [],
   "source": [
    "# sets"
   ]
  },
  {
   "cell_type": "code",
   "execution_count": 7,
   "id": "62d99965",
   "metadata": {},
   "outputs": [
    {
     "data": {
      "text/html": [
       "<div>\n",
       "<style scoped>\n",
       "    .dataframe tbody tr th:only-of-type {\n",
       "        vertical-align: middle;\n",
       "    }\n",
       "\n",
       "    .dataframe tbody tr th {\n",
       "        vertical-align: top;\n",
       "    }\n",
       "\n",
       "    .dataframe thead th {\n",
       "        text-align: right;\n",
       "    }\n",
       "</style>\n",
       "<table border=\"1\" class=\"dataframe\">\n",
       "  <thead>\n",
       "    <tr style=\"text-align: right;\">\n",
       "      <th></th>\n",
       "      <th>Text</th>\n",
       "      <th>Language</th>\n",
       "    </tr>\n",
       "  </thead>\n",
       "  <tbody>\n",
       "    <tr>\n",
       "      <th>33814</th>\n",
       "      <td>Ọgbọ́n tí ahún gbọ́n, ẹ̀yìn ni yó máa tọ ti ìg...</td>\n",
       "      <td>Yoruba</td>\n",
       "    </tr>\n",
       "    <tr>\n",
       "      <th>33815</th>\n",
       "      <td>Ọjọ́ pẹ́ táwọn Ẹlẹ́rìí Jèhófà ti ń sọ Ọ̀rọ̀ Ọl...</td>\n",
       "      <td>Yoruba</td>\n",
       "    </tr>\n",
       "    <tr>\n",
       "      <th>33816</th>\n",
       "      <td>Ọ̀pá gbóńgbó ní n ṣíwájú agbọ́ọni.</td>\n",
       "      <td>Yoruba</td>\n",
       "    </tr>\n",
       "    <tr>\n",
       "      <th>33817</th>\n",
       "      <td>Ọ̀rọ̀ apinlẹ̀kọ yìí wá láti ẹnu àgbà olóṣèlú O...</td>\n",
       "      <td>Yoruba</td>\n",
       "    </tr>\n",
       "    <tr>\n",
       "      <th>33818</th>\n",
       "      <td>ṣe àfihàn ohun táwa Ẹlẹ́rìí Jèhófà gbé ṣe àtoh...</td>\n",
       "      <td>Yoruba</td>\n",
       "    </tr>\n",
       "  </tbody>\n",
       "</table>\n",
       "</div>"
      ],
      "text/plain": [
       "                                                    Text Language\n",
       "33814  Ọgbọ́n tí ahún gbọ́n, ẹ̀yìn ni yó máa tọ ti ìg...   Yoruba\n",
       "33815  Ọjọ́ pẹ́ táwọn Ẹlẹ́rìí Jèhófà ti ń sọ Ọ̀rọ̀ Ọl...   Yoruba\n",
       "33816                 Ọ̀pá gbóńgbó ní n ṣíwájú agbọ́ọni.   Yoruba\n",
       "33817  Ọ̀rọ̀ apinlẹ̀kọ yìí wá láti ẹnu àgbà olóṣèlú O...   Yoruba\n",
       "33818  ṣe àfihàn ohun táwa Ẹlẹ́rìí Jèhófà gbé ṣe àtoh...   Yoruba"
      ]
     },
     "execution_count": 7,
     "metadata": {},
     "output_type": "execute_result"
    },
    {
     "data": {
      "text/html": [
       "<div>\n",
       "<style scoped>\n",
       "    .dataframe tbody tr th:only-of-type {\n",
       "        vertical-align: middle;\n",
       "    }\n",
       "\n",
       "    .dataframe tbody tr th {\n",
       "        vertical-align: top;\n",
       "    }\n",
       "\n",
       "    .dataframe thead th {\n",
       "        text-align: right;\n",
       "    }\n",
       "</style>\n",
       "<table border=\"1\" class=\"dataframe\">\n",
       "  <thead>\n",
       "    <tr style=\"text-align: right;\">\n",
       "      <th></th>\n",
       "      <th>Text</th>\n",
       "      <th>Language</th>\n",
       "    </tr>\n",
       "  </thead>\n",
       "  <tbody>\n",
       "    <tr>\n",
       "      <th>33814</th>\n",
       "      <td>Ọgbọ́n tí ahún gbọ́n, ẹ̀yìn ni yó máa tọ ti ìg...</td>\n",
       "      <td>Yoruba</td>\n",
       "    </tr>\n",
       "    <tr>\n",
       "      <th>33815</th>\n",
       "      <td>Ọjọ́ pẹ́ táwọn Ẹlẹ́rìí Jèhófà ti ń sọ Ọ̀rọ̀ Ọl...</td>\n",
       "      <td>Yoruba</td>\n",
       "    </tr>\n",
       "    <tr>\n",
       "      <th>33816</th>\n",
       "      <td>Ọ̀pá gbóńgbó ní n ṣíwájú agbọ́ọni.</td>\n",
       "      <td>Yoruba</td>\n",
       "    </tr>\n",
       "    <tr>\n",
       "      <th>33817</th>\n",
       "      <td>Ọ̀rọ̀ apinlẹ̀kọ yìí wá láti ẹnu àgbà olóṣèlú O...</td>\n",
       "      <td>Yoruba</td>\n",
       "    </tr>\n",
       "    <tr>\n",
       "      <th>33818</th>\n",
       "      <td>ṣe àfihàn ohun táwa Ẹlẹ́rìí Jèhófà gbé ṣe àtoh...</td>\n",
       "      <td>Yoruba</td>\n",
       "    </tr>\n",
       "  </tbody>\n",
       "</table>\n",
       "</div>"
      ],
      "text/plain": [
       "                                                    Text Language\n",
       "33814  Ọgbọ́n tí ahún gbọ́n, ẹ̀yìn ni yó máa tọ ti ìg...   Yoruba\n",
       "33815  Ọjọ́ pẹ́ táwọn Ẹlẹ́rìí Jèhófà ti ń sọ Ọ̀rọ̀ Ọl...   Yoruba\n",
       "33816                 Ọ̀pá gbóńgbó ní n ṣíwájú agbọ́ọni.   Yoruba\n",
       "33817  Ọ̀rọ̀ apinlẹ̀kọ yìí wá láti ẹnu àgbà olóṣèlú O...   Yoruba\n",
       "33818  ṣe àfihàn ohun táwa Ẹlẹ́rìí Jèhófà gbé ṣe àtoh...   Yoruba"
      ]
     },
     "execution_count": 7,
     "metadata": {},
     "output_type": "execute_result"
    }
   ],
   "source": [
    "sets.tail()"
   ]
  },
  {
   "cell_type": "markdown",
   "id": "33af951b",
   "metadata": {},
   "source": [
    "## MULTINOMIAL NAIVE BAYES MODEL"
   ]
  },
  {
   "cell_type": "code",
   "execution_count": 8,
   "id": "d8373130",
   "metadata": {},
   "outputs": [],
   "source": [
    "from sklearn.naive_bayes import MultinomialNB\n",
    "from sklearn.metrics import classification_report\n",
    "from sklearn.feature_extraction.text import CountVectorizer\n",
    "from sklearn.metrics import accuracy_score\n",
    "from sklearn.feature_extraction.text import TfidfVectorizer\n",
    "from sklearn.model_selection import train_test_split"
   ]
  },
  {
   "cell_type": "code",
   "execution_count": 9,
   "id": "806f689c",
   "metadata": {},
   "outputs": [],
   "source": [
    "# Initialize the Multinomial Naive Bayes classifier\n",
    "mnb = MultinomialNB()"
   ]
  },
  {
   "cell_type": "code",
   "execution_count": 10,
   "id": "de18265c",
   "metadata": {},
   "outputs": [],
   "source": [
    "vectorizer = TfidfVectorizer()\n",
    "A = vectorizer.fit_transform(sets['Text'])"
   ]
  },
  {
   "cell_type": "code",
   "execution_count": 11,
   "id": "99368164",
   "metadata": {},
   "outputs": [],
   "source": [
    "# Convert the target labels to numerical values\n",
    "b = pd.factorize(sets['Language'])[0]"
   ]
  },
  {
   "cell_type": "code",
   "execution_count": 25,
   "id": "0518181b",
   "metadata": {},
   "outputs": [
    {
     "ename": "SyntaxError",
     "evalue": "invalid syntax (2758755479.py, line 2)",
     "output_type": "error",
     "traceback": [
      "\u001b[1;36m  File \u001b[1;32m\"C:\\Users\\Horsars Marvel\\AppData\\Local\\Temp\\ipykernel_8804\\2758755479.py\"\u001b[1;36m, line \u001b[1;32m2\u001b[0m\n\u001b[1;33m    A_train, A_val, b_train, b_val = train_test_split(A, b, test_size=0.2 random_state=42)\u001b[0m\n\u001b[1;37m                                                                          ^\u001b[0m\n\u001b[1;31mSyntaxError\u001b[0m\u001b[1;31m:\u001b[0m invalid syntax\n"
     ]
    },
    {
     "ename": "SyntaxError",
     "evalue": "invalid syntax (2758755479.py, line 2)",
     "output_type": "error",
     "traceback": [
      "\u001b[1;36m  File \u001b[1;32m\"C:\\Users\\Horsars Marvel\\AppData\\Local\\Temp\\ipykernel_8804\\2758755479.py\"\u001b[1;36m, line \u001b[1;32m2\u001b[0m\n\u001b[1;33m    A_train, A_val, b_train, b_val = train_test_split(A, b, test_size=0.2 random_state=42)\u001b[0m\n\u001b[1;37m                                                                          ^\u001b[0m\n\u001b[1;31mSyntaxError\u001b[0m\u001b[1;31m:\u001b[0m invalid syntax\n"
     ]
    }
   ],
   "source": [
    "# Split the dataset into training and validation sets\n",
    "A_train, A_val, b_train, b_val = train_test_split(A, b, test_size=0.2 random_state=42)"
   ]
  },
  {
   "cell_type": "code",
   "execution_count": 16,
   "id": "f6d2b24a",
   "metadata": {},
   "outputs": [
    {
     "data": {
      "text/plain": [
       "MultinomialNB()"
      ]
     },
     "execution_count": 16,
     "metadata": {},
     "output_type": "execute_result"
    },
    {
     "data": {
      "text/plain": [
       "MultinomialNB()"
      ]
     },
     "execution_count": 16,
     "metadata": {},
     "output_type": "execute_result"
    }
   ],
   "source": [
    "# Fit the classifier to the training data\n",
    "mnb.fit(A_train, b_train)"
   ]
  },
  {
   "cell_type": "code",
   "execution_count": 17,
   "id": "e7bf93e0",
   "metadata": {},
   "outputs": [],
   "source": [
    "# Predict the language for each sample in the validation set\n",
    "b_pred = mnb.predict(A_val)"
   ]
  },
  {
   "cell_type": "code",
   "execution_count": 18,
   "id": "e0796969",
   "metadata": {},
   "outputs": [
    {
     "name": "stdout",
     "output_type": "stream",
     "text": [
      "Accuracy: 0.92\n",
      "Accuracy: 0.92\n"
     ]
    }
   ],
   "source": [
    "# Compute the accuracy of the predictions\n",
    "accuracy = accuracy_score(b_val, b_pred)\n",
    "print(f'Accuracy: {accuracy:.2f}')"
   ]
  },
  {
   "cell_type": "code",
   "execution_count": null,
   "id": "916c2e43",
   "metadata": {},
   "outputs": [],
   "source": [
    "# sampleTexts = ['going to lagos', 'ooni', 'fish', 'pin', 'sharpener', 'one', 'mono', 'monospace', '', '' ]"
   ]
  },
  {
   "cell_type": "code",
   "execution_count": 24,
   "id": "d3096485",
   "metadata": {},
   "outputs": [
    {
     "name": "stdout",
     "output_type": "stream",
     "text": [
      "The language of \"pin\" is Yoruba\n",
      "The language of \"pin\" is Yoruba\n"
     ]
    }
   ],
   "source": [
    "# Predict the language of new text\n",
    "sampleText = 'pin'\n",
    "\n",
    "NBlanguage_label = mnb.predict(vectorizer.transform([sampleText]))\n",
    "NBlanguage = pd.Categorical.from_codes(NBlanguage_label, sets['Language'].unique())[0]\n",
    "print(f'The language of \"{sampleText}\" is {NBlanguage}')\n"
   ]
  },
  {
   "cell_type": "code",
   "execution_count": null,
   "id": "f48fef70",
   "metadata": {},
   "outputs": [],
   "source": []
  }
 ],
 "metadata": {
  "kernelspec": {
   "display_name": "Python 3 (ipykernel)",
   "language": "python",
   "name": "python3"
  },
  "language_info": {
   "codemirror_mode": {
    "name": "ipython",
    "version": 3
   },
   "file_extension": ".py",
   "mimetype": "text/x-python",
   "name": "python",
   "nbconvert_exporter": "python",
   "pygments_lexer": "ipython3",
   "version": "3.9.13"
  }
 },
 "nbformat": 4,
 "nbformat_minor": 5
}
