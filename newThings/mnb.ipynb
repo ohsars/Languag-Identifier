{
 "cells": [
  {
   "attachments": {},
   "cell_type": "markdown",
   "id": "b9c7c9b1",
   "metadata": {},
   "source": [
    "# Yoruba Language Identifier"
   ]
  },
  {
   "attachments": {},
   "cell_type": "markdown",
   "id": "b6708505",
   "metadata": {},
   "source": [
    "### Importing the pandas library"
   ]
  },
  {
   "cell_type": "code",
   "execution_count": 1,
   "id": "5534cd28",
   "metadata": {},
   "outputs": [],
   "source": [
    "import pandas as pd"
   ]
  },
  {
   "attachments": {},
   "cell_type": "markdown",
   "id": "ae4a0228",
   "metadata": {},
   "source": [
    "### Loading the dataset"
   ]
  },
  {
   "cell_type": "code",
   "execution_count": 2,
   "id": "996b8945",
   "metadata": {},
   "outputs": [
    {
     "data": {
      "text/html": [
       "<div>\n",
       "<style scoped>\n",
       "    .dataframe tbody tr th:only-of-type {\n",
       "        vertical-align: middle;\n",
       "    }\n",
       "\n",
       "    .dataframe tbody tr th {\n",
       "        vertical-align: top;\n",
       "    }\n",
       "\n",
       "    .dataframe thead th {\n",
       "        text-align: right;\n",
       "    }\n",
       "</style>\n",
       "<table border=\"1\" class=\"dataframe\">\n",
       "  <thead>\n",
       "    <tr style=\"text-align: right;\">\n",
       "      <th></th>\n",
       "      <th>Text</th>\n",
       "      <th>Language</th>\n",
       "    </tr>\n",
       "  </thead>\n",
       "  <tbody>\n",
       "    <tr>\n",
       "      <th>0</th>\n",
       "      <td>And I say: If you don't know you're a slave, ...</td>\n",
       "      <td>Not Yoruba</td>\n",
       "    </tr>\n",
       "    <tr>\n",
       "      <th>1</th>\n",
       "      <td>And she's right.</td>\n",
       "      <td>Not Yoruba</td>\n",
       "    </tr>\n",
       "    <tr>\n",
       "      <th>2</th>\n",
       "      <td>Because it's scary and it's expensive, but we...</td>\n",
       "      <td>Not Yoruba</td>\n",
       "    </tr>\n",
       "    <tr>\n",
       "      <th>3</th>\n",
       "      <td>I want them to think, Well there's some hope.</td>\n",
       "      <td>Not Yoruba</td>\n",
       "    </tr>\n",
       "    <tr>\n",
       "      <th>4</th>\n",
       "      <td>It took only three generations.</td>\n",
       "      <td>Not Yoruba</td>\n",
       "    </tr>\n",
       "    <tr>\n",
       "      <th>...</th>\n",
       "      <td>...</td>\n",
       "      <td>...</td>\n",
       "    </tr>\n",
       "    <tr>\n",
       "      <th>24394</th>\n",
       "      <td>nose</td>\n",
       "      <td>Not Yoruba</td>\n",
       "    </tr>\n",
       "    <tr>\n",
       "      <th>24395</th>\n",
       "      <td>plural</td>\n",
       "      <td>Not Yoruba</td>\n",
       "    </tr>\n",
       "    <tr>\n",
       "      <th>24396</th>\n",
       "      <td>anger</td>\n",
       "      <td>Not Yoruba</td>\n",
       "    </tr>\n",
       "    <tr>\n",
       "      <th>24397</th>\n",
       "      <td>claim</td>\n",
       "      <td>Not Yoruba</td>\n",
       "    </tr>\n",
       "    <tr>\n",
       "      <th>24398</th>\n",
       "      <td>continent</td>\n",
       "      <td>Not Yoruba</td>\n",
       "    </tr>\n",
       "  </tbody>\n",
       "</table>\n",
       "<p>24399 rows × 2 columns</p>\n",
       "</div>"
      ],
      "text/plain": [
       "                                                    Text    Language\n",
       "0       And I say: If you don't know you're a slave, ...  Not Yoruba\n",
       "1                                       And she's right.  Not Yoruba\n",
       "2       Because it's scary and it's expensive, but we...  Not Yoruba\n",
       "3          I want them to think, Well there's some hope.  Not Yoruba\n",
       "4                        It took only three generations.  Not Yoruba\n",
       "...                                                  ...         ...\n",
       "24394                                              nose   Not Yoruba\n",
       "24395                                            plural   Not Yoruba\n",
       "24396                                             anger   Not Yoruba\n",
       "24397                                             claim   Not Yoruba\n",
       "24398                                         continent   Not Yoruba\n",
       "\n",
       "[24399 rows x 2 columns]"
      ]
     },
     "execution_count": 2,
     "metadata": {},
     "output_type": "execute_result"
    }
   ],
   "source": [
    "sets = pd.read_csv('./newDataset.csv')\n",
    "sets"
   ]
  },
  {
   "attachments": {},
   "cell_type": "markdown",
   "id": "4539439b",
   "metadata": {},
   "source": [
    "### Checking data for NAN values"
   ]
  },
  {
   "cell_type": "code",
   "execution_count": 3,
   "id": "834328a4",
   "metadata": {},
   "outputs": [
    {
     "name": "stdout",
     "output_type": "stream",
     "text": [
      "Text         0\n",
      "Language    80\n",
      "dtype: int64\n"
     ]
    }
   ],
   "source": [
    "print(sets.isnull().sum())"
   ]
  },
  {
   "cell_type": "markdown",
   "id": "82252f37",
   "metadata": {},
   "source": [
    "### Replacing NaN values with default values"
   ]
  },
  {
   "cell_type": "code",
   "execution_count": 4,
   "id": "eb0dbb92",
   "metadata": {},
   "outputs": [
    {
     "name": "stderr",
     "output_type": "stream",
     "text": [
      "C:\\Users\\Horsars Marvel\\AppData\\Local\\Temp\\ipykernel_11868\\27667490.py:1: FutureWarning: Dropping of nuisance columns in DataFrame reductions (with 'numeric_only=None') is deprecated; in a future version this will raise TypeError.  Select only valid columns before calling the reduction.\n",
      "  sets.fillna(sets.mean(), inplace=True)\n"
     ]
    }
   ],
   "source": [
    "sets.fillna(sets.mean(), inplace=True)"
   ]
  },
  {
   "attachments": {},
   "cell_type": "markdown",
   "id": "f60f2855",
   "metadata": {},
   "source": [
    "### Remove rows and columns that contain Nan values"
   ]
  },
  {
   "cell_type": "code",
   "execution_count": 5,
   "id": "5d79c7b4",
   "metadata": {},
   "outputs": [],
   "source": [
    "sets.dropna(inplace=True)"
   ]
  },
  {
   "attachments": {},
   "cell_type": "markdown",
   "id": "8cb3296c",
   "metadata": {},
   "source": [
    "### Displaying the dataset"
   ]
  },
  {
   "cell_type": "code",
   "execution_count": 6,
   "id": "77e24efa",
   "metadata": {},
   "outputs": [
    {
     "data": {
      "text/html": [
       "<div>\n",
       "<style scoped>\n",
       "    .dataframe tbody tr th:only-of-type {\n",
       "        vertical-align: middle;\n",
       "    }\n",
       "\n",
       "    .dataframe tbody tr th {\n",
       "        vertical-align: top;\n",
       "    }\n",
       "\n",
       "    .dataframe thead th {\n",
       "        text-align: right;\n",
       "    }\n",
       "</style>\n",
       "<table border=\"1\" class=\"dataframe\">\n",
       "  <thead>\n",
       "    <tr style=\"text-align: right;\">\n",
       "      <th></th>\n",
       "      <th>Text</th>\n",
       "      <th>Language</th>\n",
       "    </tr>\n",
       "  </thead>\n",
       "  <tbody>\n",
       "    <tr>\n",
       "      <th>0</th>\n",
       "      <td>And I say: If you don't know you're a slave, ...</td>\n",
       "      <td>Not Yoruba</td>\n",
       "    </tr>\n",
       "    <tr>\n",
       "      <th>1</th>\n",
       "      <td>And she's right.</td>\n",
       "      <td>Not Yoruba</td>\n",
       "    </tr>\n",
       "    <tr>\n",
       "      <th>2</th>\n",
       "      <td>Because it's scary and it's expensive, but we...</td>\n",
       "      <td>Not Yoruba</td>\n",
       "    </tr>\n",
       "    <tr>\n",
       "      <th>3</th>\n",
       "      <td>I want them to think, Well there's some hope.</td>\n",
       "      <td>Not Yoruba</td>\n",
       "    </tr>\n",
       "    <tr>\n",
       "      <th>4</th>\n",
       "      <td>It took only three generations.</td>\n",
       "      <td>Not Yoruba</td>\n",
       "    </tr>\n",
       "    <tr>\n",
       "      <th>...</th>\n",
       "      <td>...</td>\n",
       "      <td>...</td>\n",
       "    </tr>\n",
       "    <tr>\n",
       "      <th>24394</th>\n",
       "      <td>nose</td>\n",
       "      <td>Not Yoruba</td>\n",
       "    </tr>\n",
       "    <tr>\n",
       "      <th>24395</th>\n",
       "      <td>plural</td>\n",
       "      <td>Not Yoruba</td>\n",
       "    </tr>\n",
       "    <tr>\n",
       "      <th>24396</th>\n",
       "      <td>anger</td>\n",
       "      <td>Not Yoruba</td>\n",
       "    </tr>\n",
       "    <tr>\n",
       "      <th>24397</th>\n",
       "      <td>claim</td>\n",
       "      <td>Not Yoruba</td>\n",
       "    </tr>\n",
       "    <tr>\n",
       "      <th>24398</th>\n",
       "      <td>continent</td>\n",
       "      <td>Not Yoruba</td>\n",
       "    </tr>\n",
       "  </tbody>\n",
       "</table>\n",
       "<p>24319 rows × 2 columns</p>\n",
       "</div>"
      ],
      "text/plain": [
       "                                                    Text    Language\n",
       "0       And I say: If you don't know you're a slave, ...  Not Yoruba\n",
       "1                                       And she's right.  Not Yoruba\n",
       "2       Because it's scary and it's expensive, but we...  Not Yoruba\n",
       "3          I want them to think, Well there's some hope.  Not Yoruba\n",
       "4                        It took only three generations.  Not Yoruba\n",
       "...                                                  ...         ...\n",
       "24394                                              nose   Not Yoruba\n",
       "24395                                            plural   Not Yoruba\n",
       "24396                                             anger   Not Yoruba\n",
       "24397                                             claim   Not Yoruba\n",
       "24398                                         continent   Not Yoruba\n",
       "\n",
       "[24319 rows x 2 columns]"
      ]
     },
     "execution_count": 6,
     "metadata": {},
     "output_type": "execute_result"
    }
   ],
   "source": [
    "sets"
   ]
  },
  {
   "cell_type": "code",
   "execution_count": 7,
   "id": "62d99965",
   "metadata": {},
   "outputs": [
    {
     "data": {
      "text/html": [
       "<div>\n",
       "<style scoped>\n",
       "    .dataframe tbody tr th:only-of-type {\n",
       "        vertical-align: middle;\n",
       "    }\n",
       "\n",
       "    .dataframe tbody tr th {\n",
       "        vertical-align: top;\n",
       "    }\n",
       "\n",
       "    .dataframe thead th {\n",
       "        text-align: right;\n",
       "    }\n",
       "</style>\n",
       "<table border=\"1\" class=\"dataframe\">\n",
       "  <thead>\n",
       "    <tr style=\"text-align: right;\">\n",
       "      <th></th>\n",
       "      <th>Text</th>\n",
       "      <th>Language</th>\n",
       "    </tr>\n",
       "  </thead>\n",
       "  <tbody>\n",
       "    <tr>\n",
       "      <th>24394</th>\n",
       "      <td>nose</td>\n",
       "      <td>Not Yoruba</td>\n",
       "    </tr>\n",
       "    <tr>\n",
       "      <th>24395</th>\n",
       "      <td>plural</td>\n",
       "      <td>Not Yoruba</td>\n",
       "    </tr>\n",
       "    <tr>\n",
       "      <th>24396</th>\n",
       "      <td>anger</td>\n",
       "      <td>Not Yoruba</td>\n",
       "    </tr>\n",
       "    <tr>\n",
       "      <th>24397</th>\n",
       "      <td>claim</td>\n",
       "      <td>Not Yoruba</td>\n",
       "    </tr>\n",
       "    <tr>\n",
       "      <th>24398</th>\n",
       "      <td>continent</td>\n",
       "      <td>Not Yoruba</td>\n",
       "    </tr>\n",
       "  </tbody>\n",
       "</table>\n",
       "</div>"
      ],
      "text/plain": [
       "             Text    Language\n",
       "24394       nose   Not Yoruba\n",
       "24395     plural   Not Yoruba\n",
       "24396      anger   Not Yoruba\n",
       "24397      claim   Not Yoruba\n",
       "24398  continent   Not Yoruba"
      ]
     },
     "execution_count": 7,
     "metadata": {},
     "output_type": "execute_result"
    }
   ],
   "source": [
    "sets.tail()"
   ]
  },
  {
   "attachments": {},
   "cell_type": "markdown",
   "id": "33af951b",
   "metadata": {},
   "source": [
    "## MULTINOMIAL NAIVE BAYES MODEL"
   ]
  },
  {
   "cell_type": "code",
   "execution_count": 8,
   "id": "d8373130",
   "metadata": {},
   "outputs": [],
   "source": [
    "from sklearn.naive_bayes import MultinomialNB\n",
    "from sklearn.metrics import classification_report\n",
    "from sklearn.feature_extraction.text import CountVectorizer\n",
    "from sklearn.metrics import accuracy_score\n",
    "from sklearn.feature_extraction.text import TfidfVectorizer\n",
    "from sklearn.model_selection import train_test_split"
   ]
  },
  {
   "cell_type": "code",
   "execution_count": 9,
   "id": "806f689c",
   "metadata": {},
   "outputs": [],
   "source": [
    "# Initialize the Multinomial Naive Bayes classifier\n",
    "mnb = MultinomialNB()"
   ]
  },
  {
   "cell_type": "code",
   "execution_count": 10,
   "id": "de18265c",
   "metadata": {},
   "outputs": [],
   "source": [
    "vectorizer = TfidfVectorizer()\n",
    "A = vectorizer.fit_transform(sets['Text'])"
   ]
  },
  {
   "cell_type": "code",
   "execution_count": 12,
   "id": "99368164",
   "metadata": {},
   "outputs": [],
   "source": [
    "# Convert the target labels to numerical values\n",
    "b = pd.factorize(sets['Language'])[0]"
   ]
  },
  {
   "cell_type": "code",
   "execution_count": 13,
   "id": "0518181b",
   "metadata": {},
   "outputs": [],
   "source": [
    "# Split the dataset into training and validation sets\n",
    "A_train, A_val, b_train, b_val = train_test_split(A, b, test_size=0.2, random_state=42, stratify=b)"
   ]
  },
  {
   "cell_type": "code",
   "execution_count": 14,
   "id": "f6d2b24a",
   "metadata": {},
   "outputs": [
    {
     "data": {
      "text/plain": [
       "MultinomialNB()"
      ]
     },
     "execution_count": 14,
     "metadata": {},
     "output_type": "execute_result"
    }
   ],
   "source": [
    "# Fit the classifier to the training data\n",
    "mnb.fit(A_train, b_train)"
   ]
  },
  {
   "cell_type": "code",
   "execution_count": 16,
   "id": "e7bf93e0",
   "metadata": {},
   "outputs": [],
   "source": [
    "# Predict the language for each sample in the validation set\n",
    "b_pred = mnb.predict(A_val)"
   ]
  },
  {
   "cell_type": "code",
   "execution_count": 17,
   "id": "e0796969",
   "metadata": {},
   "outputs": [
    {
     "name": "stdout",
     "output_type": "stream",
     "text": [
      "Accuracy: 0.98\n"
     ]
    }
   ],
   "source": [
    "# Compute the accuracy of the predictions\n",
    "accuracy = accuracy_score(b_val, b_pred)\n",
    "print(f'Accuracy: {accuracy:.2f}')"
   ]
  },
  {
   "cell_type": "code",
   "execution_count": 22,
   "id": "916c2e43",
   "metadata": {},
   "outputs": [],
   "source": [
    "# sampleTexts = ['going to lagos', 'ooni', 'fish', 'pin', 'sharpener', 'one', 'mono', 'monospace', '', '' ]"
   ]
  },
  {
   "cell_type": "code",
   "execution_count": 54,
   "id": "d3096485",
   "metadata": {},
   "outputs": [
    {
     "name": "stdout",
     "output_type": "stream",
     "text": [
      "The language of \"Guerra\" is Yoruba\n"
     ]
    }
   ],
   "source": [
    "# Predict the language of new text\n",
    "sampleText = 'Guerra'\n",
    "\n",
    "NBlanguage_label = mnb.predict(vectorizer.transform([sampleText]))\n",
    "NBlanguage = pd.Categorical.from_codes(NBlanguage_label, sets['Language'].unique())[0]\n",
    "print(f'The language of \"{sampleText}\" is {NBlanguage}')\n"
   ]
  },
  {
   "cell_type": "code",
   "execution_count": null,
   "id": "f48fef70",
   "metadata": {},
   "outputs": [],
   "source": []
  }
 ],
 "metadata": {
  "kernelspec": {
   "display_name": "Python 3 (ipykernel)",
   "language": "python",
   "name": "python3"
  },
  "language_info": {
   "codemirror_mode": {
    "name": "ipython",
    "version": 3
   },
   "file_extension": ".py",
   "mimetype": "text/x-python",
   "name": "python",
   "nbconvert_exporter": "python",
   "pygments_lexer": "ipython3",
   "version": "3.9.13"
  }
 },
 "nbformat": 4,
 "nbformat_minor": 5
}
