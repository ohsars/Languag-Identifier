{
 "cells": [
  {
   "cell_type": "code",
   "execution_count": 36,
   "id": "14131110",
   "metadata": {},
   "outputs": [],
   "source": [
    "import numpy as np\n",
    "import pandas as pd\n",
    "from sklearn.model_selection import train_test_split\n",
    "from sklearn.feature_extraction.text import CountVectorizer\n",
    "from sklearn.naive_bayes import MultinomialNB\n",
    "from sklearn.metrics import accuracy_score"
   ]
  },
  {
   "cell_type": "code",
   "execution_count": 37,
   "id": "e58d6719",
   "metadata": {},
   "outputs": [],
   "source": [
    "# load the Yoruba dataset\n",
    "data = pd.read_csv('Dataset.csv')"
   ]
  },
  {
   "cell_type": "code",
   "execution_count": 42,
   "id": "3f9d7e34",
   "metadata": {},
   "outputs": [
    {
     "data": {
      "text/plain": [
       "<4285x5000 sparse matrix of type '<class 'numpy.int64'>'\n",
       "\twith 10774 stored elements in Compressed Sparse Row format>"
      ]
     },
     "execution_count": 42,
     "metadata": {},
     "output_type": "execute_result"
    }
   ],
   "source": [
    "# Preprocess text data\n",
    "vectorizer = CountVectorizer()\n",
    "X = vectorizer.fit_transform(data['Text'])\n",
    "y = data['Language']\n",
    "X"
   ]
  },
  {
   "cell_type": "code",
   "execution_count": 44,
   "id": "07bd0f3d",
   "metadata": {},
   "outputs": [
    {
     "data": {
      "text/plain": [
       "(<3428x5000 sparse matrix of type '<class 'numpy.int64'>'\n",
       " \twith 8721 stored elements in Compressed Sparse Row format>,\n",
       " <857x5000 sparse matrix of type '<class 'numpy.int64'>'\n",
       " \twith 2053 stored elements in Compressed Sparse Row format>,\n",
       " 4235    Not Yoruba\n",
       " 2620        Yoruba\n",
       " 2646        Yoruba\n",
       " 961         Yoruba\n",
       " 3267        Yoruba\n",
       "            ...    \n",
       " 622     Not Yoruba\n",
       " 3931    Not Yoruba\n",
       " 2793        Yoruba\n",
       " 822         Yoruba\n",
       " 1435        Yoruba\n",
       " Name: Language, Length: 3428, dtype: object,\n",
       " 1403        Yoruba\n",
       " 3790    Not Yoruba\n",
       " 2714        Yoruba\n",
       " 3253        Yoruba\n",
       " 2022        Yoruba\n",
       "            ...    \n",
       " 2882        Yoruba\n",
       " 1647        Yoruba\n",
       " 491     Not Yoruba\n",
       " 584     Not Yoruba\n",
       " 2859        Yoruba\n",
       " Name: Language, Length: 857, dtype: object)"
      ]
     },
     "execution_count": 44,
     "metadata": {},
     "output_type": "execute_result"
    }
   ],
   "source": [
    "# Split data into training and validation sets\n",
    "X_train, X_test, y_train, y_test = train_test_split(X, y, test_size=0.2, random_state=42, stratify=y)\n",
    "# X_train, X_test, y_train, y_test"
   ]
  },
  {
   "cell_type": "code",
   "execution_count": 15,
   "id": "cece2a1f",
   "metadata": {},
   "outputs": [],
   "source": [
    "# extract features from the text\n",
    "vectorizer = TfidfVectorizer()\n",
    "X_train = vectorizer.fit_transform(X_train)\n",
    "X_test = vectorizer.transform(X_test)"
   ]
  },
  {
   "cell_type": "code",
   "execution_count": 16,
   "id": "e5f92099",
   "metadata": {},
   "outputs": [
    {
     "data": {
      "text/plain": [
       "MultinomialNB()"
      ]
     },
     "execution_count": 16,
     "metadata": {},
     "output_type": "execute_result"
    }
   ],
   "source": [
    "# train the model\n",
    "model = MultinomialNB()\n",
    "model.fit(X_train, y_train)"
   ]
  },
  {
   "cell_type": "code",
   "execution_count": 33,
   "id": "1f3a4cd9",
   "metadata": {},
   "outputs": [],
   "source": [
    "# evaluate the model\n",
    "\n",
    "# y_pred = model.predict(X_test)\n",
    "# y_pred\n",
    "\n",
    "accuracy = accuracy_score(y_test, y_pred)\n",
    "# accuracy\n",
    "\n",
    "precision = precision_score(y_test, y_pred, pos_label='Yoruba')\n",
    "# precision \n",
    "\n",
    "recall = recall_score(y_test, y_pred, pos_label='Yoruba')\n",
    "# recall\n",
    "\n",
    "f1 = f1_score(y_test, y_pred, pos_label='Yoruba')\n",
    "# f1\n",
    "\n"
   ]
  },
  {
   "cell_type": "code",
   "execution_count": 32,
   "id": "bc4bce72",
   "metadata": {},
   "outputs": [
    {
     "name": "stdout",
     "output_type": "stream",
     "text": [
      "Accuracy: 68.73%\n",
      "Precision: 66.25%\n",
      "Recall: 99.81%\n",
      "F1 Score: 79.64%\n"
     ]
    }
   ],
   "source": [
    "print('Accuracy: {:.2f}%'.format(accuracy*100))\n",
    "print('Precision: {:.2f}%'.format(precision*100))\n",
    "print('Recall: {:.2f}%'.format(recall*100))\n",
    "print('F1 Score: {:.2f}%'.format(f1*100))"
   ]
  },
  {
   "cell_type": "code",
   "execution_count": 35,
   "id": "0cd72cec",
   "metadata": {},
   "outputs": [
    {
     "name": "stdout",
     "output_type": "stream",
     "text": [
      "Text: Mo ní ìrànwọ́ lórí ẹ̀dá tí n wọ̀n ti kókó ìwé\n",
      "Predicted label: Yoruba\n",
      "---------------------------\n",
      "Text: Bí a bá ṣe kó ṣe fún ẹ̀ wọ̀nyíí?\n",
      "Predicted label: Yoruba\n",
      "---------------------------\n",
      "Text: Ẹ jọ̀wọ́, jọ̀wọ́ fún mi lọ́wọ́ o\n",
      "Predicted label: Yoruba\n",
      "---------------------------\n",
      "Text: Mo lọ sí ìlú Ìbàdàn\n",
      "Predicted label: Yoruba\n",
      "---------------------------\n",
      "Text: Ẹ n lọ sí kínì sí ẹ̀kọ́ tàbí ìpèsẹ́\n",
      "Predicted label: Yoruba\n",
      "---------------------------\n",
      "Text: bit\n",
      "Predicted label: Not Yoruba\n",
      "---------------------------\n",
      "Text: shit\n",
      "Predicted label: Yoruba\n",
      "---------------------------\n",
      "Text: smart\n",
      "Predicted label: Yoruba\n",
      "---------------------------\n",
      "Text: rice\n",
      "Predicted label: Yoruba\n",
      "---------------------------\n",
      "Text: pen\n",
      "Predicted label: Yoruba\n",
      "---------------------------\n"
     ]
    }
   ],
   "source": [
    "# load some sample test data\n",
    "test_data = [\n",
    "    'Mo ní ìrànwọ́ lórí ẹ̀dá tí n wọ̀n ti kókó ìwé',\n",
    "    'Bí a bá ṣe kó ṣe fún ẹ̀ wọ̀nyíí?',\n",
    "    'Ẹ jọ̀wọ́, jọ̀wọ́ fún mi lọ́wọ́ o',\n",
    "    'Mo lọ sí ìlú Ìbàdàn', \n",
    "    'Ẹ n lọ sí kínì sí ẹ̀kọ́ tàbí ìpèsẹ́',\n",
    "    'bit',\n",
    "    'shit',\n",
    "    'smart',\n",
    "    'rice',\n",
    "    'pen',\n",
    "]\n",
    "\n",
    "# clean the test data\n",
    "cleaned_test_data = []\n",
    "for text in test_data:\n",
    "    cleaned_text = clean_text(text)\n",
    "    cleaned_test_data.append(cleaned_text)\n",
    "\n",
    "# extract features from the test data\n",
    "test_data_features = vectorizer.transform(cleaned_test_data)\n",
    "\n",
    "# use the model to predict the language of the test data\n",
    "predicted_labels = model.predict(test_data_features)\n",
    "\n",
    "# print the predicted labels\n",
    "for i in range(len(test_data)):\n",
    "    print('Text:', test_data[i])\n",
    "    print('Predicted label:', predicted_labels[i])\n",
    "    print('---------------------------')"
   ]
  },
  {
   "cell_type": "code",
   "execution_count": null,
   "id": "dc50ad1c",
   "metadata": {},
   "outputs": [],
   "source": []
  }
 ],
 "metadata": {
  "kernelspec": {
   "display_name": "Python 3 (ipykernel)",
   "language": "python",
   "name": "python3"
  },
  "language_info": {
   "codemirror_mode": {
    "name": "ipython",
    "version": 3
   },
   "file_extension": ".py",
   "mimetype": "text/x-python",
   "name": "python",
   "nbconvert_exporter": "python",
   "pygments_lexer": "ipython3",
   "version": "3.9.13"
  }
 },
 "nbformat": 4,
 "nbformat_minor": 5
}
