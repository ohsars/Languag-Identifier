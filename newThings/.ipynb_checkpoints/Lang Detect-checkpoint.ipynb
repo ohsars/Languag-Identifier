{
 "cells": [
  {
   "cell_type": "code",
   "execution_count": 1,
   "id": "9bbc0888",
   "metadata": {},
   "outputs": [],
   "source": [
    "import pandas as pd #Importing "
   ]
  },
  {
   "cell_type": "code",
   "execution_count": 2,
   "id": "99763348",
   "metadata": {},
   "outputs": [],
   "source": [
    "db = pd.read_csv('Dataset.csv')"
   ]
  },
  {
   "cell_type": "code",
   "execution_count": 3,
   "id": "abc6bff3",
   "metadata": {},
   "outputs": [
    {
     "data": {
      "text/html": [
       "<div>\n",
       "<style scoped>\n",
       "    .dataframe tbody tr th:only-of-type {\n",
       "        vertical-align: middle;\n",
       "    }\n",
       "\n",
       "    .dataframe tbody tr th {\n",
       "        vertical-align: top;\n",
       "    }\n",
       "\n",
       "    .dataframe thead th {\n",
       "        text-align: right;\n",
       "    }\n",
       "</style>\n",
       "<table border=\"1\" class=\"dataframe\">\n",
       "  <thead>\n",
       "    <tr style=\"text-align: right;\">\n",
       "      <th></th>\n",
       "      <th>Text</th>\n",
       "      <th>Language</th>\n",
       "      <th>Unnamed: 2</th>\n",
       "    </tr>\n",
       "  </thead>\n",
       "  <tbody>\n",
       "    <tr>\n",
       "      <th>0</th>\n",
       "      <td>lílo àkàbà ǹjẹ́ o máa ń ṣe àyẹ̀wò wọ̀nyí tó l...</td>\n",
       "      <td>Yoruba</td>\n",
       "      <td>NaN</td>\n",
       "    </tr>\n",
       "    <tr>\n",
       "      <th>1</th>\n",
       "      <td>fẹ́ pààrọ̀ gílóòbù iná tó wà lóde ilé ẹ̀</td>\n",
       "      <td>Yoruba</td>\n",
       "      <td>NaN</td>\n",
       "    </tr>\n",
       "    <tr>\n",
       "      <th>2</th>\n",
       "      <td>abbreviate</td>\n",
       "      <td>Not Yoruba</td>\n",
       "      <td>NaN</td>\n",
       "    </tr>\n",
       "    <tr>\n",
       "      <th>3</th>\n",
       "      <td>abbreviation</td>\n",
       "      <td>Not Yoruba</td>\n",
       "      <td>NaN</td>\n",
       "    </tr>\n",
       "    <tr>\n",
       "      <th>4</th>\n",
       "      <td>abdomen</td>\n",
       "      <td>Not Yoruba</td>\n",
       "      <td>NaN</td>\n",
       "    </tr>\n",
       "  </tbody>\n",
       "</table>\n",
       "</div>"
      ],
      "text/plain": [
       "                                                Text    Language Unnamed: 2\n",
       "0  lílo àkàbà ǹjẹ́ o máa ń ṣe àyẹ̀wò wọ̀nyí tó l...      Yoruba        NaN\n",
       "1          fẹ́ pààrọ̀ gílóòbù iná tó wà lóde ilé ẹ̀       Yoruba        NaN\n",
       "2                                        abbreviate   Not Yoruba        NaN\n",
       "3                                      abbreviation   Not Yoruba        NaN\n",
       "4                                           abdomen   Not Yoruba        NaN"
      ]
     },
     "execution_count": 3,
     "metadata": {},
     "output_type": "execute_result"
    }
   ],
   "source": [
    "db.head()"
   ]
  },
  {
   "cell_type": "markdown",
   "id": "6e7aa15c",
   "metadata": {},
   "source": [
    "### Check for Missing Values "
   ]
  },
  {
   "cell_type": "code",
   "execution_count": 4,
   "id": "0b0c0e0f",
   "metadata": {},
   "outputs": [
    {
     "data": {
      "text/plain": [
       "Text             0\n",
       "Language         0\n",
       "Unnamed: 2    4284\n",
       "dtype: int64"
      ]
     },
     "execution_count": 4,
     "metadata": {},
     "output_type": "execute_result"
    }
   ],
   "source": [
    "db.isnull().sum()"
   ]
  },
  {
   "cell_type": "markdown",
   "id": "fcf07c55",
   "metadata": {},
   "source": [
    "### Check for different target labels"
   ]
  },
  {
   "cell_type": "code",
   "execution_count": 5,
   "id": "6f36ee84",
   "metadata": {},
   "outputs": [
    {
     "data": {
      "text/plain": [
       "Yoruba        2572\n",
       "Not Yoruba    1713\n",
       "Name: Language, dtype: int64"
      ]
     },
     "execution_count": 5,
     "metadata": {},
     "output_type": "execute_result"
    }
   ],
   "source": [
    "db['Language'].value_counts()"
   ]
  },
  {
   "cell_type": "markdown",
   "id": "94df505e",
   "metadata": {},
   "source": [
    "### Split data into train and test sets"
   ]
  },
  {
   "cell_type": "code",
   "execution_count": 13,
   "id": "3de2714a",
   "metadata": {},
   "outputs": [
    {
     "data": {
      "text/plain": [
       "0       lílo àkàbà ǹjẹ́ o máa ń ṣe àyẹ̀wò wọ̀nyí tó l...\n",
       "1               fẹ́ pààrọ̀ gílóòbù iná tó wà lóde ilé ẹ̀ \n",
       "2                                             abbreviate \n",
       "3                                           abbreviation \n",
       "4                                                abdomen \n",
       "                              ...                        \n",
       "4280                                                nose \n",
       "4281                                              plural \n",
       "4282                                               anger \n",
       "4283                                               claim \n",
       "4284                                           continent \n",
       "Name: Text, Length: 4285, dtype: object"
      ]
     },
     "execution_count": 13,
     "metadata": {},
     "output_type": "execute_result"
    }
   ],
   "source": [
    "X = db['Text']\n",
    "y = db['Language']\n",
    "X"
   ]
  },
  {
   "cell_type": "code",
   "execution_count": 25,
   "id": "47644524",
   "metadata": {},
   "outputs": [],
   "source": [
    "import re\n",
    "data_list = []\n",
    "for text in X:\n",
    "    text = re.sub(r'[!@#$() ,n\"%^*:;~`0-9]', '', text)\n",
    "#     text = re.sub(r'[[]]', ' ', text)\n",
    "#     text = text.lower()\n",
    "    data_list.append(text)\n",
    "    \n",
    "        "
   ]
  },
  {
   "cell_type": "code",
   "execution_count": 26,
   "id": "c68af860",
   "metadata": {},
   "outputs": [
    {
     "data": {
      "text/plain": [
       "'co ti e t '"
      ]
     },
     "execution_count": 26,
     "metadata": {},
     "output_type": "execute_result"
    }
   ],
   "source": [
    "text"
   ]
  },
  {
   "cell_type": "code",
   "execution_count": null,
   "id": "00d4d70d",
   "metadata": {},
   "outputs": [],
   "source": []
  }
 ],
 "metadata": {
  "kernelspec": {
   "display_name": "Python 3 (ipykernel)",
   "language": "python",
   "name": "python3"
  },
  "language_info": {
   "codemirror_mode": {
    "name": "ipython",
    "version": 3
   },
   "file_extension": ".py",
   "mimetype": "text/x-python",
   "name": "python",
   "nbconvert_exporter": "python",
   "pygments_lexer": "ipython3",
   "version": "3.9.13"
  }
 },
 "nbformat": 4,
 "nbformat_minor": 5
}
