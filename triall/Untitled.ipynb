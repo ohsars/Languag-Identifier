{
 "cells": [
  {
   "cell_type": "code",
   "execution_count": 26,
   "id": "3627ede0",
   "metadata": {},
   "outputs": [],
   "source": [
    "import pandas as pd\n",
    "from sklearn.feature_extraction.text import CountVectorizer\n",
    "from sklearn.naive_bayes import MultinomialNB\n",
    "from langdetect import detect\n"
   ]
  },
  {
   "cell_type": "code",
   "execution_count": 28,
   "id": "0d67c537",
   "metadata": {},
   "outputs": [],
   "source": [
    "# training data\n",
    "data = pd.read_csv(\"../newThings/Dataset.csv\")\n"
   ]
  },
  {
   "cell_type": "code",
   "execution_count": 29,
   "id": "8ec20da1",
   "metadata": {},
   "outputs": [],
   "source": [
    "texts = data[\"Text\"]\n",
    "labels = data[\"Language\"]"
   ]
  },
  {
   "cell_type": "code",
   "execution_count": 30,
   "id": "f7c8753c",
   "metadata": {},
   "outputs": [],
   "source": [
    "# vectorize the training data\n",
    "vectorizer = CountVectorizer()\n",
    "X_train = vectorizer.fit_transform(texts)\n",
    "\n"
   ]
  },
  {
   "cell_type": "code",
   "execution_count": 31,
   "id": "4bf1047b",
   "metadata": {},
   "outputs": [
    {
     "data": {
      "text/plain": [
       "MultinomialNB()"
      ]
     },
     "execution_count": 31,
     "metadata": {},
     "output_type": "execute_result"
    }
   ],
   "source": [
    "# train the MNB model\n",
    "mnb = MultinomialNB()\n",
    "mnb.fit(X_train, labels)\n",
    "\n"
   ]
  },
  {
   "cell_type": "code",
   "execution_count": 40,
   "id": "10f8d3fa",
   "metadata": {},
   "outputs": [],
   "source": [
    "# input text string\n",
    "text = \"pen\"\n",
    "\n"
   ]
  },
  {
   "cell_type": "code",
   "execution_count": 41,
   "id": "b41aa58e",
   "metadata": {},
   "outputs": [],
   "source": [
    "# predict the probabilities for each language class\n",
    "X_test = vectorizer.transform([text])\n",
    "probas = mnb.predict_proba(X_test)\n",
    "\n"
   ]
  },
  {
   "cell_type": "code",
   "execution_count": 42,
   "id": "625b7caf",
   "metadata": {},
   "outputs": [],
   "source": [
    "# create a pandas dataframe to display the results\n",
    "df = pd.DataFrame({'Language': mnb.classes_,\n",
    "                   'Probability': probas[0]})\n",
    "\n"
   ]
  },
  {
   "cell_type": "code",
   "execution_count": 43,
   "id": "fdda6e2b",
   "metadata": {},
   "outputs": [],
   "source": [
    "# sort the results by probability in descending order\n",
    "df = df.sort_values(by=['Probability'], ascending=False)\n",
    "\n"
   ]
  },
  {
   "cell_type": "code",
   "execution_count": 44,
   "id": "464c4c37",
   "metadata": {},
   "outputs": [
    {
     "data": {
      "text/html": [
       "<div>\n",
       "<style scoped>\n",
       "    .dataframe tbody tr th:only-of-type {\n",
       "        vertical-align: middle;\n",
       "    }\n",
       "\n",
       "    .dataframe tbody tr th {\n",
       "        vertical-align: top;\n",
       "    }\n",
       "\n",
       "    .dataframe thead th {\n",
       "        text-align: right;\n",
       "    }\n",
       "</style>\n",
       "<table border=\"1\" class=\"dataframe\">\n",
       "  <thead>\n",
       "    <tr style=\"text-align: right;\">\n",
       "      <th></th>\n",
       "      <th>Language</th>\n",
       "      <th>Probability</th>\n",
       "    </tr>\n",
       "  </thead>\n",
       "  <tbody>\n",
       "    <tr>\n",
       "      <th>1</th>\n",
       "      <td>Yoruba</td>\n",
       "      <td>0.600233</td>\n",
       "    </tr>\n",
       "    <tr>\n",
       "      <th>0</th>\n",
       "      <td>Not Yoruba</td>\n",
       "      <td>0.399767</td>\n",
       "    </tr>\n",
       "  </tbody>\n",
       "</table>\n",
       "</div>"
      ],
      "text/plain": [
       "     Language  Probability\n",
       "1      Yoruba     0.600233\n",
       "0  Not Yoruba     0.399767"
      ]
     },
     "metadata": {},
     "output_type": "display_data"
    }
   ],
   "source": [
    "# display the results as a formatted table\n",
    "display(df)\n",
    "\n"
   ]
  },
  {
   "cell_type": "code",
   "execution_count": 45,
   "id": "fa225cd8",
   "metadata": {},
   "outputs": [],
   "source": [
    "# get the language with the highest probability\n",
    "lang = mnb.classes_[probas.argmax()]\n",
    "\n"
   ]
  },
  {
   "cell_type": "code",
   "execution_count": 46,
   "id": "180cd4e1",
   "metadata": {},
   "outputs": [],
   "source": [
    "# detect the language of the input text using langdetect\n",
    "langdetect_lang = detect(text)\n",
    "\n"
   ]
  },
  {
   "cell_type": "code",
   "execution_count": 47,
   "id": "fd5e9af9",
   "metadata": {},
   "outputs": [
    {
     "name": "stdout",
     "output_type": "stream",
     "text": [
      "Detected language(s) and probabilities:\n",
      "  Language  Probability\n",
      "    Yoruba     0.600233\n",
      "Not Yoruba     0.399767\n",
      "\n",
      "Detected language by MNB model: Yoruba\n",
      "Detected language by langdetect: id\n"
     ]
    }
   ],
   "source": [
    "print(f\"Detected language(s) and probabilities:\\n{df.to_string(index=False)}\\n\")\n",
    "\n",
    "print(f\"Detected language by MNB model: {lang}\")\n",
    "print(f\"Detected language by langdetect: {langdetect_lang}\")"
   ]
  },
  {
   "cell_type": "code",
   "execution_count": null,
   "id": "4aa22167",
   "metadata": {},
   "outputs": [],
   "source": []
  }
 ],
 "metadata": {
  "kernelspec": {
   "display_name": "Python 3 (ipykernel)",
   "language": "python",
   "name": "python3"
  },
  "language_info": {
   "codemirror_mode": {
    "name": "ipython",
    "version": 3
   },
   "file_extension": ".py",
   "mimetype": "text/x-python",
   "name": "python",
   "nbconvert_exporter": "python",
   "pygments_lexer": "ipython3",
   "version": "3.9.13"
  }
 },
 "nbformat": 4,
 "nbformat_minor": 5
}
